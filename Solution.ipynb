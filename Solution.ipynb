{
 "cells": [
  {
   "cell_type": "markdown",
   "metadata": {},
   "source": [
    "# Upload data"
   ]
  },
  {
   "cell_type": "code",
   "execution_count": 1,
   "metadata": {},
   "outputs": [],
   "source": [
    "import pandas as pd\n",
    "import GEOparse\n",
    "import numpy as np\n",
    "from sklearn import tree\n",
    "from sklearn.ensemble import RandomForestClassifier\n",
    "import matplotlib.pyplot as plt"
   ]
  },
  {
   "cell_type": "code",
   "execution_count": 2,
   "metadata": {},
   "outputs": [
    {
     "name": "stderr",
     "output_type": "stream",
     "text": [
      "05-Apr-2020 23:24:22 DEBUG utils - Directory ./ already exists. Skipping.\n",
      "05-Apr-2020 23:24:22 INFO GEOparse - File already exist: using local version.\n",
      "05-Apr-2020 23:24:22 INFO GEOparse - Parsing ./GSE26728_family.soft.gz: \n",
      "05-Apr-2020 23:24:22 DEBUG GEOparse - DATABASE: GeoMiame\n",
      "05-Apr-2020 23:24:22 DEBUG GEOparse - SERIES: GSE26728\n",
      "05-Apr-2020 23:24:22 DEBUG GEOparse - PLATFORM: GPL7042\n",
      "/home/for_x_in_rage/anaconda3/lib/python3.7/site-packages/GEOparse/GEOparse.py:104: DtypeWarning: Columns (2) have mixed types.Specify dtype option on import or set low_memory=False.\n",
      "  return parse_GSE(filepath)\n",
      "05-Apr-2020 23:24:23 DEBUG GEOparse - SAMPLE: GSM658075\n",
      "05-Apr-2020 23:24:23 DEBUG GEOparse - SAMPLE: GSM658076\n",
      "05-Apr-2020 23:24:23 DEBUG GEOparse - SAMPLE: GSM658077\n",
      "05-Apr-2020 23:24:23 DEBUG GEOparse - SAMPLE: GSM658078\n",
      "05-Apr-2020 23:24:23 DEBUG GEOparse - SAMPLE: GSM658079\n",
      "05-Apr-2020 23:24:23 DEBUG GEOparse - SAMPLE: GSM658080\n",
      "05-Apr-2020 23:24:23 DEBUG GEOparse - SAMPLE: GSM658081\n",
      "05-Apr-2020 23:24:23 DEBUG GEOparse - SAMPLE: GSM658082\n",
      "05-Apr-2020 23:24:23 DEBUG GEOparse - SAMPLE: GSM658083\n",
      "05-Apr-2020 23:24:23 DEBUG GEOparse - SAMPLE: GSM658084\n",
      "05-Apr-2020 23:24:24 DEBUG GEOparse - SAMPLE: GSM658085\n",
      "05-Apr-2020 23:24:24 DEBUG GEOparse - SAMPLE: GSM658086\n",
      "05-Apr-2020 23:24:24 DEBUG GEOparse - SAMPLE: GSM658087\n",
      "05-Apr-2020 23:24:24 DEBUG GEOparse - SAMPLE: GSM658088\n",
      "05-Apr-2020 23:24:24 DEBUG GEOparse - SAMPLE: GSM658089\n",
      "05-Apr-2020 23:24:24 DEBUG GEOparse - SAMPLE: GSM658090\n",
      "05-Apr-2020 23:24:24 DEBUG GEOparse - SAMPLE: GSM658091\n",
      "05-Apr-2020 23:24:24 DEBUG GEOparse - SAMPLE: GSM658092\n"
     ]
    }
   ],
   "source": [
    "gse = GEOparse.get_GEO(geo=\"GSE26728\", destdir=\"./\")"
   ]
  },
  {
   "cell_type": "code",
   "execution_count": 3,
   "metadata": {},
   "outputs": [],
   "source": [
    "control_name = ['GSM658075','GSM658076','GSM658077','GSM658078','GSM658079','GSM658080']\n",
    "low_dose_name = ['GSM658081','GSM658082','GSM658082','GSM658084','GSM658085','GSM658086']\n",
    "high_dose_name = ['GSM658087','GSM658088','GSM658089','GSM658090','GSM658091','GSM658092']"
   ]
  },
  {
   "cell_type": "markdown",
   "metadata": {},
   "source": [
    "# Количество генов в исследовании\n",
    "\n",
    "**22514** гена,  дупликатов нет"
   ]
  },
  {
   "cell_type": "code",
   "execution_count": 4,
   "metadata": {},
   "outputs": [
    {
     "name": "stdout",
     "output_type": "stream",
     "text": [
      "Number of genes:  22514\n",
      "Number of unique samples:  22514\n"
     ]
    }
   ],
   "source": [
    "num_of_samples = []\n",
    "\n",
    "control_list, low_dose_list, high_dose_list = [], [], []\n",
    "\n",
    "# print number of unique genes in experiments\n",
    "# and separate data by groups: control, low dose, high dose\n",
    "for gsm_name, gsm in gse.gsms.items():\n",
    "    \n",
    "    num_genes = gsm.table.shape[0]\n",
    "    num_unique = len(gsm.table.ID_REF.unique())\n",
    "    \n",
    "    if gsm_name in control_name:\n",
    "        control_list.append(gsm.table.set_index('ID_REF'))\n",
    "    elif gsm_name in low_dose_name:\n",
    "        low_dose_list.append(gsm.table.set_index('ID_REF'))\n",
    "    elif gsm_name in high_dose_name:\n",
    "        high_dose_list.append(gsm.table.set_index('ID_REF'))\n",
    "    \n",
    "    if num_genes in num_of_samples:\n",
    "        continue\n",
    "    \n",
    "    num_of_samples.append(num_genes)\n",
    "\n",
    "    print('Number of genes: ', num_genes)\n",
    "    print('Number of unique samples: ', num_unique)"
   ]
  },
  {
   "cell_type": "code",
   "execution_count": 5,
   "metadata": {},
   "outputs": [],
   "source": [
    "# Create dataframes for each group of samples\n",
    "# containing all the data for each gene\n",
    "control = pd.concat(control_list, axis = 0)\n",
    "low_dose = pd.concat(low_dose_list, axis = 0)\n",
    "high_dose = pd.concat(high_dose_list, axis = 0)"
   ]
  },
  {
   "cell_type": "markdown",
   "metadata": {},
   "source": [
    "# Cредние значения экспресии каждого из генов в контроле, low_dose и high_dose. "
   ]
  },
  {
   "cell_type": "code",
   "execution_count": 6,
   "metadata": {},
   "outputs": [],
   "source": [
    "# Dataframes with mean values of expression for each gene in each group\n",
    "control_mean = control.groupby(by='ID_REF').mean()\n",
    "low_dose_mean = low_dose.groupby(by='ID_REF').mean()\n",
    "high_dose_mean = high_dose.groupby(by='ID_REF').mean()"
   ]
  },
  {
   "cell_type": "markdown",
   "metadata": {},
   "source": [
    "# Построение классификаторов control vs low_dose, control vs high_dose"
   ]
  },
  {
   "cell_type": "code",
   "execution_count": 7,
   "metadata": {},
   "outputs": [],
   "source": [
    "def create_dataset(dose, control):\n",
    "    '''Function that transform dataframes with dose and genes into X,y dataset\n",
    "    '''\n",
    "    dose = dose.transpose()\n",
    "    control = control.transpose()\n",
    "    dataset = pd.concat([dose,control], axis = 0)\n",
    "    dataset['Y'] = np.array([0]*len(dose)+[1]*len(control))\n",
    "    dataset = dataset.sample(frac=1)\n",
    "    y=dataset['Y']\n",
    "    X=dataset.drop(columns=['Y'],axis=1)\n",
    "    return X,y"
   ]
  },
  {
   "cell_type": "code",
   "execution_count": 8,
   "metadata": {},
   "outputs": [],
   "source": [
    "# prepare dataframe\n",
    "control_dataset = pd.concat(control_list, axis = 1, join='inner')\n",
    "low_dose_dataset = pd.concat(low_dose_list, axis = 1, join='inner')\n",
    "high_dose_dataset = pd.concat(high_dose_list, axis = 1, join='inner')"
   ]
  },
  {
   "cell_type": "code",
   "execution_count": 18,
   "metadata": {},
   "outputs": [],
   "source": [
    "X_low,y_low = create_dataset(low_dose_dataset, control_dataset)"
   ]
  },
  {
   "cell_type": "code",
   "execution_count": 22,
   "metadata": {},
   "outputs": [],
   "source": [
    "classification_tree_low = RandomForestClassifier(n_estimators=3000, max_depth = 2)"
   ]
  },
  {
   "cell_type": "code",
   "execution_count": null,
   "metadata": {},
   "outputs": [],
   "source": [
    "classification_tree_low = classification_tree.fit(X_low,y_low)"
   ]
  },
  {
   "cell_type": "code",
   "execution_count": null,
   "metadata": {},
   "outputs": [],
   "source": [
    "np.sort(classification_tree_low.feature_importances_)[-40:]"
   ]
  },
  {
   "cell_type": "code",
   "execution_count": null,
   "metadata": {},
   "outputs": [],
   "source": []
  }
 ],
 "metadata": {
  "kernelspec": {
   "display_name": "Python 3",
   "language": "python",
   "name": "python3"
  },
  "language_info": {
   "codemirror_mode": {
    "name": "ipython",
    "version": 3
   },
   "file_extension": ".py",
   "mimetype": "text/x-python",
   "name": "python",
   "nbconvert_exporter": "python",
   "pygments_lexer": "ipython3",
   "version": "3.7.7"
  }
 },
 "nbformat": 4,
 "nbformat_minor": 4
}
