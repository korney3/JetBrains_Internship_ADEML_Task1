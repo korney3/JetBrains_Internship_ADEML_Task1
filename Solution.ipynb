{
 "cells": [
  {
   "cell_type": "markdown",
   "metadata": {},
   "source": [
    "# Upload data"
   ]
  },
  {
   "cell_type": "code",
   "execution_count": 22,
   "metadata": {},
   "outputs": [
    {
     "name": "stderr",
     "output_type": "stream",
     "text": [
      "05-Apr-2020 21:08:29 DEBUG utils - Directory ./ already exists. Skipping.\n",
      "05-Apr-2020 21:08:29 INFO GEOparse - File already exist: using local version.\n",
      "05-Apr-2020 21:08:29 INFO GEOparse - Parsing ./GSE26728_family.soft.gz: \n",
      "05-Apr-2020 21:08:29 DEBUG GEOparse - DATABASE: GeoMiame\n",
      "05-Apr-2020 21:08:29 DEBUG GEOparse - SERIES: GSE26728\n",
      "05-Apr-2020 21:08:29 DEBUG GEOparse - PLATFORM: GPL7042\n",
      "/home/for_x_in_rage/anaconda3/lib/python3.7/site-packages/GEOparse/GEOparse.py:104: DtypeWarning: Columns (2) have mixed types.Specify dtype option on import or set low_memory=False.\n",
      "  return parse_GSE(filepath)\n",
      "05-Apr-2020 21:08:30 DEBUG GEOparse - SAMPLE: GSM658075\n",
      "05-Apr-2020 21:08:30 DEBUG GEOparse - SAMPLE: GSM658076\n",
      "05-Apr-2020 21:08:30 DEBUG GEOparse - SAMPLE: GSM658077\n",
      "05-Apr-2020 21:08:30 DEBUG GEOparse - SAMPLE: GSM658078\n",
      "05-Apr-2020 21:08:30 DEBUG GEOparse - SAMPLE: GSM658079\n",
      "05-Apr-2020 21:08:30 DEBUG GEOparse - SAMPLE: GSM658080\n",
      "05-Apr-2020 21:08:30 DEBUG GEOparse - SAMPLE: GSM658081\n",
      "05-Apr-2020 21:08:30 DEBUG GEOparse - SAMPLE: GSM658082\n",
      "05-Apr-2020 21:08:30 DEBUG GEOparse - SAMPLE: GSM658083\n",
      "05-Apr-2020 21:08:30 DEBUG GEOparse - SAMPLE: GSM658084\n",
      "05-Apr-2020 21:08:31 DEBUG GEOparse - SAMPLE: GSM658085\n",
      "05-Apr-2020 21:08:31 DEBUG GEOparse - SAMPLE: GSM658086\n",
      "05-Apr-2020 21:08:31 DEBUG GEOparse - SAMPLE: GSM658087\n",
      "05-Apr-2020 21:08:31 DEBUG GEOparse - SAMPLE: GSM658088\n",
      "05-Apr-2020 21:08:31 DEBUG GEOparse - SAMPLE: GSM658089\n",
      "05-Apr-2020 21:08:31 DEBUG GEOparse - SAMPLE: GSM658090\n",
      "05-Apr-2020 21:08:31 DEBUG GEOparse - SAMPLE: GSM658091\n",
      "05-Apr-2020 21:08:31 DEBUG GEOparse - SAMPLE: GSM658092\n"
     ]
    }
   ],
   "source": [
    "import GEOparse\n",
    "\n",
    "gse = GEOparse.get_GEO(geo=\"GSE26728\", destdir=\"./\")"
   ]
  },
  {
   "cell_type": "code",
   "execution_count": 30,
   "metadata": {},
   "outputs": [],
   "source": [
    "control_name = ['GSM658075','GSM658076','GSM658077','GSM658078','GSM658079','GSM658080']\n",
    "low_dose_name = ['GSM658081','GSM658082','GSM658082','GSM658084','GSM658085','GSM658086']\n",
    "high_dose_name = ['GSM658087','GSM658088','GSM658089','GSM658090','GSM658091','GSM658092']"
   ]
  },
  {
   "cell_type": "markdown",
   "metadata": {},
   "source": [
    "# Количество генов в исследовании\n",
    "\n",
    "**22514** гена,  дупликатов нет"
   ]
  },
  {
   "cell_type": "code",
   "execution_count": 31,
   "metadata": {},
   "outputs": [
    {
     "name": "stdout",
     "output_type": "stream",
     "text": [
      "Number of genes:  22514\n",
      "Number of unique samples:  22514\n"
     ]
    }
   ],
   "source": [
    "num_of_samples = []\n",
    "\n",
    "control, low_dose, high_dose = [], [], []\n",
    "\n",
    "# print number of unique genes in experiments\n",
    "# and separate data by groups: control, low dose, high dose\n",
    "for gsm_name, gsm in gse.gsms.items():\n",
    "    \n",
    "    num_genes = gsm.table.shape[0]\n",
    "    num_unique = len(gsm.table.ID_REF.unique())\n",
    "    \n",
    "    if gsm_name in control_name:\n",
    "        control.append(gsm.table)\n",
    "    elif gsm_name in low_dose_name:\n",
    "        low_dose.append(gsm.table)\n",
    "    elif gsm_name in high_dose_name:\n",
    "        high_dose.append(gsm.table)\n",
    "    \n",
    "    if num_genes in num_of_samples:\n",
    "        continue\n",
    "    \n",
    "    num_of_samples.append(num_genes)\n",
    "\n",
    "    print('Number of genes: ', num_genes)\n",
    "    print('Number of unique samples: ', num_unique)"
   ]
  },
  {
   "cell_type": "code",
   "execution_count": null,
   "metadata": {},
   "outputs": [],
   "source": []
  },
  {
   "cell_type": "markdown",
   "metadata": {},
   "source": [
    "# Draft"
   ]
  },
  {
   "cell_type": "code",
   "execution_count": null,
   "metadata": {},
   "outputs": [],
   "source": [
    "print()\n",
    "print(\"GSM example:\")\n",
    "for gsm_name, gsm in gse.gsms.items():\n",
    "    print(\"Name: \", gsm_name)\n",
    "    print(\"Metadata:\",)\n",
    "    for key, value in gsm.metadata.items():\n",
    "        print(\" - %s : %s\" % (key, \", \".join(value)))\n",
    "    print (\"Table data:\",)\n",
    "    print (gsm.table.head())\n",
    "#     print (gsm.table.shape)\n",
    "    break\n",
    "\n",
    "print()\n",
    "print(\"GPL example:\")\n",
    "for gpl_name, gpl in gse.gpls.items():\n",
    "    print(\"Name: \", gpl_name)\n",
    "    print(\"Metadata:\",)\n",
    "    for key, value in gpl.metadata.items():\n",
    "        print(\" - %s : %s\" % (key, \", \".join(value)))\n",
    "    print(\"Table data:\",)\n",
    "    print(gpl.table.head())\n",
    "    break"
   ]
  }
 ],
 "metadata": {
  "kernelspec": {
   "display_name": "Python 3",
   "language": "python",
   "name": "python3"
  },
  "language_info": {
   "codemirror_mode": {
    "name": "ipython",
    "version": 3
   },
   "file_extension": ".py",
   "mimetype": "text/x-python",
   "name": "python",
   "nbconvert_exporter": "python",
   "pygments_lexer": "ipython3",
   "version": "3.7.7"
  }
 },
 "nbformat": 4,
 "nbformat_minor": 4
}
