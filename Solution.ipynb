{
 "cells": [
  {
   "cell_type": "markdown",
   "metadata": {},
   "source": [
    "# Upload data"
   ]
  },
  {
   "cell_type": "code",
   "execution_count": 105,
   "metadata": {},
   "outputs": [],
   "source": [
    "import pandas as pd\n",
    "import GEOparse\n",
    "import numpy as np\n",
    "from sklearn import tree\n",
    "from sklearn.ensemble import RandomForestClassifier\n",
    "import matplotlib.pyplot as plt"
   ]
  },
  {
   "cell_type": "code",
   "execution_count": 2,
   "metadata": {},
   "outputs": [
    {
     "name": "stderr",
     "output_type": "stream",
     "text": [
      "05-Apr-2020 22:35:50 DEBUG utils - Directory ./ already exists. Skipping.\n",
      "05-Apr-2020 22:35:50 INFO GEOparse - Downloading ftp://ftp.ncbi.nlm.nih.gov/geo/series/GSE26nnn/GSE26728/soft/GSE26728_family.soft.gz to ./GSE26728_family.soft.gz\n",
      "100%|██████████| 9.32M/9.32M [00:38<00:00, 256kB/s] \n",
      "05-Apr-2020 22:36:30 DEBUG downloader - Size validation passed\n",
      "05-Apr-2020 22:36:30 DEBUG downloader - Moving /tmp/tmpjhk84ome to /home/for_x_in_rage/JetBrainsInternship/JetBrains_Internship_ADEML_Task1/GSE26728_family.soft.gz\n",
      "05-Apr-2020 22:36:30 DEBUG downloader - Successfully downloaded ftp://ftp.ncbi.nlm.nih.gov/geo/series/GSE26nnn/GSE26728/soft/GSE26728_family.soft.gz\n",
      "05-Apr-2020 22:36:30 INFO GEOparse - Parsing ./GSE26728_family.soft.gz: \n",
      "05-Apr-2020 22:36:30 DEBUG GEOparse - DATABASE: GeoMiame\n",
      "05-Apr-2020 22:36:30 DEBUG GEOparse - SERIES: GSE26728\n",
      "05-Apr-2020 22:36:30 DEBUG GEOparse - PLATFORM: GPL7042\n",
      "/home/for_x_in_rage/anaconda3/lib/python3.7/site-packages/GEOparse/GEOparse.py:104: DtypeWarning: Columns (2) have mixed types.Specify dtype option on import or set low_memory=False.\n",
      "  return parse_GSE(filepath)\n",
      "05-Apr-2020 22:36:31 DEBUG GEOparse - SAMPLE: GSM658075\n",
      "05-Apr-2020 22:36:31 DEBUG GEOparse - SAMPLE: GSM658076\n",
      "05-Apr-2020 22:36:31 DEBUG GEOparse - SAMPLE: GSM658077\n",
      "05-Apr-2020 22:36:31 DEBUG GEOparse - SAMPLE: GSM658078\n",
      "05-Apr-2020 22:36:31 DEBUG GEOparse - SAMPLE: GSM658079\n",
      "05-Apr-2020 22:36:31 DEBUG GEOparse - SAMPLE: GSM658080\n",
      "05-Apr-2020 22:36:31 DEBUG GEOparse - SAMPLE: GSM658081\n",
      "05-Apr-2020 22:36:31 DEBUG GEOparse - SAMPLE: GSM658082\n",
      "05-Apr-2020 22:36:31 DEBUG GEOparse - SAMPLE: GSM658083\n",
      "05-Apr-2020 22:36:31 DEBUG GEOparse - SAMPLE: GSM658084\n",
      "05-Apr-2020 22:36:31 DEBUG GEOparse - SAMPLE: GSM658085\n",
      "05-Apr-2020 22:36:31 DEBUG GEOparse - SAMPLE: GSM658086\n",
      "05-Apr-2020 22:36:31 DEBUG GEOparse - SAMPLE: GSM658087\n",
      "05-Apr-2020 22:36:32 DEBUG GEOparse - SAMPLE: GSM658088\n",
      "05-Apr-2020 22:36:32 DEBUG GEOparse - SAMPLE: GSM658089\n",
      "05-Apr-2020 22:36:32 DEBUG GEOparse - SAMPLE: GSM658090\n",
      "05-Apr-2020 22:36:32 DEBUG GEOparse - SAMPLE: GSM658091\n",
      "05-Apr-2020 22:36:32 DEBUG GEOparse - SAMPLE: GSM658092\n"
     ]
    }
   ],
   "source": [
    "gse = GEOparse.get_GEO(geo=\"GSE26728\", destdir=\"./\")"
   ]
  },
  {
   "cell_type": "code",
   "execution_count": 3,
   "metadata": {},
   "outputs": [],
   "source": [
    "control_name = ['GSM658075','GSM658076','GSM658077','GSM658078','GSM658079','GSM658080']\n",
    "low_dose_name = ['GSM658081','GSM658082','GSM658082','GSM658084','GSM658085','GSM658086']\n",
    "high_dose_name = ['GSM658087','GSM658088','GSM658089','GSM658090','GSM658091','GSM658092']"
   ]
  },
  {
   "cell_type": "markdown",
   "metadata": {},
   "source": [
    "# Количество генов в исследовании\n",
    "\n",
    "**22514** гена,  дупликатов нет"
   ]
  },
  {
   "cell_type": "code",
   "execution_count": 67,
   "metadata": {},
   "outputs": [
    {
     "name": "stdout",
     "output_type": "stream",
     "text": [
      "Number of genes:  22514\n",
      "Number of unique samples:  22514\n"
     ]
    }
   ],
   "source": [
    "num_of_samples = []\n",
    "\n",
    "control_list, low_dose_list, high_dose_list = [], [], []\n",
    "\n",
    "# print number of unique genes in experiments\n",
    "# and separate data by groups: control, low dose, high dose\n",
    "for gsm_name, gsm in gse.gsms.items():\n",
    "    \n",
    "    num_genes = gsm.table.shape[0]\n",
    "    num_unique = len(gsm.table.ID_REF.unique())\n",
    "    \n",
    "    if gsm_name in control_name:\n",
    "        control_list.append(gsm.table.set_index('ID_REF'))\n",
    "    elif gsm_name in low_dose_name:\n",
    "        low_dose_list.append(gsm.table.set_index('ID_REF'))\n",
    "    elif gsm_name in high_dose_name:\n",
    "        high_dose_list.append(gsm.table.set_index('ID_REF'))\n",
    "    \n",
    "    if num_genes in num_of_samples:\n",
    "        continue\n",
    "    \n",
    "    num_of_samples.append(num_genes)\n",
    "\n",
    "    print('Number of genes: ', num_genes)\n",
    "    print('Number of unique samples: ', num_unique)"
   ]
  },
  {
   "cell_type": "code",
   "execution_count": 65,
   "metadata": {},
   "outputs": [],
   "source": [
    "control = pd.concat(control, axis = 1, join='inner')"
   ]
  },
  {
   "cell_type": "code",
   "execution_count": 66,
   "metadata": {},
   "outputs": [
    {
     "data": {
      "text/html": [
       "<div>\n",
       "<style scoped>\n",
       "    .dataframe tbody tr th:only-of-type {\n",
       "        vertical-align: middle;\n",
       "    }\n",
       "\n",
       "    .dataframe tbody tr th {\n",
       "        vertical-align: top;\n",
       "    }\n",
       "\n",
       "    .dataframe thead th {\n",
       "        text-align: right;\n",
       "    }\n",
       "</style>\n",
       "<table border=\"1\" class=\"dataframe\">\n",
       "  <thead>\n",
       "    <tr style=\"text-align: right;\">\n",
       "      <th></th>\n",
       "      <th>VALUE</th>\n",
       "      <th>VALUE</th>\n",
       "      <th>VALUE</th>\n",
       "      <th>VALUE</th>\n",
       "      <th>VALUE</th>\n",
       "      <th>VALUE</th>\n",
       "    </tr>\n",
       "    <tr>\n",
       "      <th>ID_REF</th>\n",
       "      <th></th>\n",
       "      <th></th>\n",
       "      <th></th>\n",
       "      <th></th>\n",
       "      <th></th>\n",
       "      <th></th>\n",
       "    </tr>\n",
       "  </thead>\n",
       "  <tbody>\n",
       "    <tr>\n",
       "      <th>A_51_P100034</th>\n",
       "      <td>12.630</td>\n",
       "      <td>11.899</td>\n",
       "      <td>12.393</td>\n",
       "      <td>12.539</td>\n",
       "      <td>12.368</td>\n",
       "      <td>12.361</td>\n",
       "    </tr>\n",
       "    <tr>\n",
       "      <th>A_51_P100063</th>\n",
       "      <td>5.828</td>\n",
       "      <td>6.598</td>\n",
       "      <td>5.984</td>\n",
       "      <td>5.986</td>\n",
       "      <td>6.089</td>\n",
       "      <td>6.163</td>\n",
       "    </tr>\n",
       "    <tr>\n",
       "      <th>A_51_P100099</th>\n",
       "      <td>7.638</td>\n",
       "      <td>7.635</td>\n",
       "      <td>7.216</td>\n",
       "      <td>7.767</td>\n",
       "      <td>7.516</td>\n",
       "      <td>7.378</td>\n",
       "    </tr>\n",
       "    <tr>\n",
       "      <th>A_51_P100155</th>\n",
       "      <td>10.947</td>\n",
       "      <td>10.582</td>\n",
       "      <td>10.406</td>\n",
       "      <td>11.054</td>\n",
       "      <td>10.770</td>\n",
       "      <td>10.402</td>\n",
       "    </tr>\n",
       "    <tr>\n",
       "      <th>A_51_P100174</th>\n",
       "      <td>6.632</td>\n",
       "      <td>6.089</td>\n",
       "      <td>6.012</td>\n",
       "      <td>6.190</td>\n",
       "      <td>6.260</td>\n",
       "      <td>6.131</td>\n",
       "    </tr>\n",
       "  </tbody>\n",
       "</table>\n",
       "</div>"
      ],
      "text/plain": [
       "               VALUE   VALUE   VALUE   VALUE   VALUE   VALUE\n",
       "ID_REF                                                      \n",
       "A_51_P100034  12.630  11.899  12.393  12.539  12.368  12.361\n",
       "A_51_P100063   5.828   6.598   5.984   5.986   6.089   6.163\n",
       "A_51_P100099   7.638   7.635   7.216   7.767   7.516   7.378\n",
       "A_51_P100155  10.947  10.582  10.406  11.054  10.770  10.402\n",
       "A_51_P100174   6.632   6.089   6.012   6.190   6.260   6.131"
      ]
     },
     "execution_count": 66,
     "metadata": {},
     "output_type": "execute_result"
    }
   ],
   "source": [
    "control.head()"
   ]
  },
  {
   "cell_type": "code",
   "execution_count": 68,
   "metadata": {},
   "outputs": [],
   "source": [
    "# Create dataframes for each group of samples\n",
    "# containing all the data for each gene\n",
    "control = pd.concat(control_list, axis = 0)\n",
    "low_dose = pd.concat(low_dose_list, axis = 0)\n",
    "high_dose = pd.concat(high_dose_list, axis = 0)"
   ]
  },
  {
   "cell_type": "markdown",
   "metadata": {},
   "source": [
    "# Cредние значения экспресии каждого из генов в контроле, low_dose и high_dose. "
   ]
  },
  {
   "cell_type": "code",
   "execution_count": 38,
   "metadata": {},
   "outputs": [],
   "source": [
    "# Dataframes with mean values of expression for each gene in each group\n",
    "control_mean = control.groupby(by='ID_REF').mean()\n",
    "low_dose_mean = low_dose.groupby(by='ID_REF').mean()\n",
    "high_dose_mean = high_dose.groupby(by='ID_REF').mean()"
   ]
  },
  {
   "cell_type": "markdown",
   "metadata": {},
   "source": [
    "# Построение классификаторов control vs low_dose, control vs high_dose"
   ]
  },
  {
   "cell_type": "code",
   "execution_count": 103,
   "metadata": {},
   "outputs": [],
   "source": [
    "def create_dataset(dose, control):\n",
    "    '''Function that transform dataframes with dose and genes into X,y dataset'''\n",
    "    dose = dose.transpose()\n",
    "    control = control.transpose()\n",
    "    dataset = pd.concat([dose,control], axis = 0)\n",
    "    dataset['Y'] = np.array([0]*len(dose)+[1]*len(control))\n",
    "    dataset = dataset.sample(frac=1)\n",
    "    y=dataset['Y']\n",
    "    X=dataset.drop(columns=['Y'],axis=1)\n",
    "    return X,y"
   ]
  },
  {
   "cell_type": "code",
   "execution_count": 82,
   "metadata": {},
   "outputs": [],
   "source": [
    "# prepare dataframe\n",
    "control_dataset = pd.concat(control_list, axis = 1, join='inner')\n",
    "low_dose_dataset = pd.concat(low_dose_list, axis = 1, join='inner')\n",
    "high_dose_dataset = pd.concat(high_dose_list, axis = 1, join='inner')"
   ]
  },
  {
   "cell_type": "code",
   "execution_count": 94,
   "metadata": {},
   "outputs": [],
   "source": [
    "X,y = create_dataset(low_dose_dataset, control_dataset)"
   ]
  },
  {
   "cell_type": "code",
   "execution_count": 106,
   "metadata": {},
   "outputs": [],
   "source": [
    "\n",
    "classification_tree = tree.DecisionTreeClassifier(max_depth = 2)\n",
    "classification_tree = RandomForestClassifier(max_depth = 2)"
   ]
  },
  {
   "cell_type": "code",
   "execution_count": 102,
   "metadata": {},
   "outputs": [
    {
     "data": {
      "image/png": "[encoded data removed]",
      "text/plain": [
       "<Figure size 432x288 with 1 Axes>"
      ]
     },
     "metadata": {
      "needs_background": "light"
     },
     "output_type": "display_data"
    }
   ],
   "source": [
    "classification_tree = classification_tree.fit(X,y)\n",
    "_ = tree.plot_tree(classification_tree.fit(X,y))"
   ]
  },
  {
   "cell_type": "code",
   "execution_count": 98,
   "metadata": {},
   "outputs": [
    {
     "data": {
      "text/plain": [
       "array([0., 1.])"
      ]
     },
     "execution_count": 98,
     "metadata": {},
     "output_type": "execute_result"
    }
   ],
   "source": [
    "np.unique(classification_tree.feature_importances_)[-20:]"
   ]
  }
 ],
 "metadata": {
  "kernelspec": {
   "display_name": "Python 3",
   "language": "python",
   "name": "python3"
  },
  "language_info": {
   "codemirror_mode": {
    "name": "ipython",
    "version": 3
   },
   "file_extension": ".py",
   "mimetype": "text/x-python",
   "name": "python",
   "nbconvert_exporter": "python",
   "pygments_lexer": "ipython3",
   "version": "3.7.7"
  }
 },
 "nbformat": 4,
 "nbformat_minor": 4
}
